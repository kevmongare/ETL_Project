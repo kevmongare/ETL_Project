{
 "cells": [
  {
   "cell_type": "markdown",
   "id": "0468087d",
   "metadata": {},
   "source": [
    "### After learning the ETL in lux I want to build a system that will help me pull data about the latest news and store it in my database just simple and direct incase of any mistakes forgive me its my third week 😂😎\n"
   ]
  },
  {
   "cell_type": "markdown",
   "id": "2080cf00",
   "metadata": {},
   "source": [
    "I will start with the necessary packages "
   ]
  },
  {
   "cell_type": "markdown",
   "id": "a2fa7b68",
   "metadata": {},
   "source": [
    "requests sqlalchemy pandas psycopg2-binary"
   ]
  },
  {
   "cell_type": "code",
   "execution_count": 1,
   "id": "820cd19c",
   "metadata": {},
   "outputs": [
    {
     "name": "stdout",
     "output_type": "stream",
     "text": [
      "Requirement already satisfied: requests in /opt/anaconda3/lib/python3.12/site-packages (2.32.3)\n",
      "Requirement already satisfied: sqlalchemy in /opt/anaconda3/lib/python3.12/site-packages (2.0.34)\n",
      "Requirement already satisfied: pandas in /opt/anaconda3/lib/python3.12/site-packages (2.2.2)\n",
      "Requirement already satisfied: psycopg2-binary in /opt/anaconda3/lib/python3.12/site-packages (2.9.10)\n",
      "Requirement already satisfied: charset-normalizer<4,>=2 in /opt/anaconda3/lib/python3.12/site-packages (from requests) (3.3.2)\n",
      "Requirement already satisfied: idna<4,>=2.5 in /opt/anaconda3/lib/python3.12/site-packages (from requests) (3.7)\n",
      "Requirement already satisfied: urllib3<3,>=1.21.1 in /opt/anaconda3/lib/python3.12/site-packages (from requests) (2.2.3)\n",
      "Requirement already satisfied: certifi>=2017.4.17 in /opt/anaconda3/lib/python3.12/site-packages (from requests) (2025.4.26)\n",
      "Requirement already satisfied: typing-extensions>=4.6.0 in /opt/anaconda3/lib/python3.12/site-packages (from sqlalchemy) (4.14.0)\n",
      "Requirement already satisfied: greenlet!=0.4.17 in /opt/anaconda3/lib/python3.12/site-packages (from sqlalchemy) (3.0.1)\n",
      "Requirement already satisfied: numpy>=1.26.0 in /opt/anaconda3/lib/python3.12/site-packages (from pandas) (1.26.4)\n",
      "Requirement already satisfied: python-dateutil>=2.8.2 in /opt/anaconda3/lib/python3.12/site-packages (from pandas) (2.9.0.post0)\n",
      "Requirement already satisfied: pytz>=2020.1 in /opt/anaconda3/lib/python3.12/site-packages (from pandas) (2024.1)\n",
      "Requirement already satisfied: tzdata>=2022.7 in /opt/anaconda3/lib/python3.12/site-packages (from pandas) (2023.3)\n",
      "Requirement already satisfied: six>=1.5 in /opt/anaconda3/lib/python3.12/site-packages (from python-dateutil>=2.8.2->pandas) (1.16.0)\n",
      "Note: you may need to restart the kernel to use updated packages.\n"
     ]
    }
   ],
   "source": [
    "pip install requests sqlalchemy pandas psycopg2-binary"
   ]
  },
  {
   "cell_type": "markdown",
   "id": "06201bd3",
   "metadata": {},
   "source": [
    "all necesaary packages have been installed 💪🏽😎\n"
   ]
  },
  {
   "cell_type": "code",
   "execution_count": null,
   "id": "913a9532",
   "metadata": {},
   "outputs": [],
   "source": [
    "from dotenv import load_dotenv\n",
    "import os\n",
    "import requests # extraction \n",
    "import pandas as pd # Transformation P M \n",
    "from sqlalchemy import create_engine # access to the db - loading\n",
    "\n",
    "load_dotenv()\n",
    "db_uri = os.getenv(\"DATABASE_URL\")\n",
    "api_key =os.getenv(\"NEWSAPI_KEY\")"
   ]
  },
  {
   "cell_type": "markdown",
   "id": "93b3c6b4",
   "metadata": {},
   "source": [
    "I have imported all necesarry packages that are necessary for the ETL"
   ]
  },
  {
   "cell_type": "markdown",
   "id": "943257f0",
   "metadata": {},
   "source": [
    "E - extract - simple tearms its like collecting data think of it like collecting information from different sources today we will work with api"
   ]
  },
  {
   "cell_type": "markdown",
   "id": "c3018241",
   "metadata": {},
   "source": [
    "we will work with newsapi - https://newsapi.org/"
   ]
  },
  {
   "cell_type": "markdown",
   "id": "c7a8f4cf",
   "metadata": {},
   "source": [
    " Pandas to help in transforming data you can think of it like cleaning data "
   ]
  },
  {
   "cell_type": "markdown",
   "id": "2c62532b",
   "metadata": {},
   "source": [
    "sqlalchemy - to help in loading our data under this case i will use aiven and dbeaver "
   ]
  },
  {
   "cell_type": "markdown",
   "id": "c71133c4",
   "metadata": {},
   "source": [
    "am extremely eager to see if this work 😂✅"
   ]
  },
  {
   "cell_type": "markdown",
   "id": "dd7e4ed7",
   "metadata": {},
   "source": [
    "we are going to work with top headlines in kenya "
   ]
  },
  {
   "cell_type": "markdown",
   "id": "29765f92",
   "metadata": {},
   "source": [
    "lets call the url"
   ]
  },
  {
   "cell_type": "code",
   "execution_count": null,
   "id": "c0b4e6b4",
   "metadata": {},
   "outputs": [],
   "source": [
    "\n",
    "url =('https://newsapi.org/v2/everything?'\n",
    "       'q=Kenya police&'\n",
    "       'pageSize=20&'\n",
    "       'sortBy=publishedAt&'\n",
    "       'language=en&'\n",
    "       'apiKey=')\n",
    "#am declaring the url to the api and the country that i need the top headlines from is kenya "
   ]
  },
  {
   "cell_type": "markdown",
   "id": "5f3c4e1f",
   "metadata": {},
   "source": [
    "I want to see if the api works am goint to requests for the data"
   ]
  },
  {
   "cell_type": "code",
   "execution_count": 11,
   "id": "cc3cd3b8",
   "metadata": {},
   "outputs": [
    {
     "data": {
      "text/plain": [
       "<Response [200]>"
      ]
     },
     "execution_count": 11,
     "metadata": {},
     "output_type": "execute_result"
    }
   ],
   "source": [
    "news = requests.get(url)\n",
    "news"
   ]
  },
  {
   "cell_type": "markdown",
   "id": "71bf97f9",
   "metadata": {},
   "source": [
    "I got response 200 which means that it is succesfull am really loving the progress😂"
   ]
  },
  {
   "cell_type": "markdown",
   "id": "4bdad27b",
   "metadata": {},
   "source": [
    "I want to now get the data how do i do it?"
   ]
  },
  {
   "cell_type": "markdown",
   "id": "f1eb9998",
   "metadata": {},
   "source": [
    "let me try to pull it as json() this will make it come/be sent as dictionary type"
   ]
  },
  {
   "cell_type": "code",
   "execution_count": 12,
   "id": "fe7becef",
   "metadata": {},
   "outputs": [
    {
     "data": {
      "text/plain": [
       "{'status': 'ok',\n",
       " 'totalResults': 208,\n",
       " 'articles': [{'source': {'id': None, 'name': 'BBC News'},\n",
       "   'author': None,\n",
       "   'title': \"Why the death of a blogger has put Kenya's police on trial\",\n",
       "   'description': 'His widow tells the BBC his last words from a police station in Nairobi were: \"I\\'ll see you soon.\"',\n",
       "   'url': 'https://www.bbc.com/news/articles/c79epzj703eo',\n",
       "   'urlToImage': 'https://ichef.bbci.co.uk/news/1024/branded_news/81fc/live/921b4380-4ba6-11f0-8c47-237c2e4015f5.jpg',\n",
       "   'publishedAt': '2025-06-17T22:55:47Z',\n",
       "   'content': 'Wycliffe Muia, Barbara Plett Usher &amp; Brian Waihenya\\r\\nAlbert Ojwang, who was married with a young son, had graduated with a Bachelor of Education degree a few years ago\\r\\n\"My son died like an anima… [+10420 chars]'},\n",
       "  {'source': {'id': None, 'name': 'Yahoo Entertainment'},\n",
       "   'author': 'BRIAN INGANGA',\n",
       "   'title': 'Photos capture the shooting of a civilian by a Kenyan police officer amid protests',\n",
       "   'description': 'An Associated Press photographer captured the shooting of a civilian by a Kenyan police officer in the head at close range on Tuesday, during the latest...',\n",
       "   'url': 'https://www.yahoo.com/news/photos-capture-shooting-civilian-kenyan-215657430.html',\n",
       "   'urlToImage': 'https://s.yimg.com/ny/api/res/1.2/eVoPJjU7uhnbMjENj_fuwQ--/YXBwaWQ9aGlnaGxhbmRlcjt3PTEyMDA7aD04MDA-/https://media.zenfs.com/en/ap.org/f95109cdcccf687ab3291ea7639a20dd',\n",
       "   'publishedAt': '2025-06-17T21:56:57Z',\n",
       "   'content': 'NAIROBI, Kenya (AP) An Associated Press photographer captured the shooting of a civilian by a Kenyan police officer in the head at close range on Tuesday, during the latest protest against the countr… [+2423 chars]'},\n",
       "  {'source': {'id': None, 'name': 'DW (English)'},\n",
       "   'author': 'Louis Oelofse',\n",
       "   'title': 'Kenya: Officer held after man shot at anti-brutality rally',\n",
       "   'description': 'DW captured the incident on camera during protests in Nairobi following the death of blogger Albert Ojwang in police custody.',\n",
       "   'url': 'https://www.dw.com/en/kenya-officer-held-after-man-shot-at-anti-brutality-rally/a-72948701',\n",
       "   'urlToImage': 'https://static.dw.com/image/72954901_6.jpg',\n",
       "   'publishedAt': '2025-06-17T17:03:00Z',\n",
       "   'content': \"A Kenyan police officer has been arrested following the shooting of an unarmed civilian during Tuesday's rally to protest the death of a blogger in police custody.\\r\\nDW's Nairobi correspondent, Felix … [+2619 chars]\"},\n",
       "  {'source': {'id': 'abc-news', 'name': 'ABC News'},\n",
       "   'author': 'EVELYNE MUSAMBI Associated Press, BRIAN INGANGA Associated Press',\n",
       "   'title': 'Kenyan police shoot protester at close range during latest protests',\n",
       "   'description': 'Kenyan police have shot an apparent bystander at close range during the latest protests over the killing of a blogger in custody earlier this month',\n",
       "   'url': 'https://abcnews.go.com/International/wireStory/kenyan-police-shoot-protester-close-range-latest-protests-122935951',\n",
       "   'urlToImage': 'https://i.abcnewsfe.com/a/a2f4a655-51e1-4ef7-b8fb-c666f8e5079f/wirestory_936486f1d1463debf7f9a9526bf16f3c_16x9.jpg?w=1600',\n",
       "   'publishedAt': '2025-06-17T16:53:02Z',\n",
       "   'content': 'NAIROBI, Kenya -- Kenyan police shot an apparent bystander at close range Tuesday during the latest protests over the killing of a blogger in custody earlier this month, sparking more fury among the … [+1748 chars]'},\n",
       "  {'source': {'id': None, 'name': 'Biztoc.com'},\n",
       "   'author': 'bloomberg.com',\n",
       "   'title': 'Bikers With Whips Rout Kenya Anti-Police Protesters; Dozens Hurt',\n",
       "   'description': '',\n",
       "   'url': 'https://biztoc.com/x/6c666a73cb6ba2d2',\n",
       "   'urlToImage': 'https://biztoc.com/cdn/6c666a73cb6ba2d2_s.webp',\n",
       "   'publishedAt': '2025-06-17T15:31:49Z',\n",
       "   'content': '{ window.open(this.href, \\'_blank\\'); }, 200); return false;\"&gt;Why did US retail sales drop sharply in May? { window.open(this.href, \\'_blank\\'); }, 200); return false;\"&gt;How will Kraft Heinz\\'s dye r… [+753 chars]'},\n",
       "  {'source': {'id': None,\n",
       "    'name': 'Breaking NEWS in KENYA for Today Right Now & Kenyan News | TUKO'},\n",
       "   'author': 'Danvictor Munene',\n",
       "   'title': 'Abel Mutua, Awinja and Other Celebs Berate Police Officers After Shooting Protester in the Head',\n",
       "   'description': 'A vendor was shot during protests over Albert Ojwang’s death. Celebs like Abel Mutua and Awinja spoke out, sparking outrage and questions about police conduct.',\n",
       "   'url': 'https://www.tuko.co.ke/entertainment/celebrities/593085-abel-mutua-awinja-celebs-berate-police-officers-shooting-protester-cbd/',\n",
       "   'urlToImage': 'https://cdn.tuko.co.ke/images/1200x675/0d1735ba20bebc67.jpeg?v=1',\n",
       "   'publishedAt': '2025-06-17T15:27:41Z',\n",
       "   'content': '<ul><li>A disturbing video captured the moment a calm vendor faced two advancing officers, and ended up being shot in broad daylight</li><li>Abel Mutua, Awinja, and Flaqo reacted online, unleashing r… [+5231 chars]'},\n",
       "  {'source': {'id': 'al-jazeera-english', 'name': 'Al Jazeera English'},\n",
       "   'author': 'Al Jazeera',\n",
       "   'title': 'One killed in clashes as Kenyans protest death of blogger in police custody',\n",
       "   'description': 'Demonstrations against police violence erupted after 31-year-old Albert Ojwang died in custody.',\n",
       "   'url': 'https://www.aljazeera.com/news/2025/6/17/one-killed-in-clashes-as-kenyans-protest-death-of-blogger-in-police-custody',\n",
       "   'urlToImage': 'https://www.aljazeera.com/wp-content/uploads/2025/06/ap-8e0e711c32fc49fb8eb8987ebe9c8c29-1750165659.jpg?resize=1920%2C1440',\n",
       "   'publishedAt': '2025-06-17T14:40:37Z',\n",
       "   'content': 'Hundreds of men on motorbikes, armed with whips and clubs, have attacked protesters in downtown Nairobi while they were demonstrating against alleged extrajudicial killings, following the death of a … [+2921 chars]'},\n",
       "  {'source': {'id': None, 'name': 'The Star Online'},\n",
       "   'author': 'The Star Online',\n",
       "   'title': 'One dead in Kenyan protests over death of blogger in custody',\n",
       "   'description': 'NAIROBI (Reuters) -One person was killed in the Kenyan capital Nairobi on Tuesday during protests sparked by the death of a blogger in police custody that has inflamed accusations of extrajudicial killings by security forces.\\xa0\\xa0\\xa0 Read full story',\n",
       "   'url': 'https://www.thestar.com.my/news/world/2025/06/17/one-dead-in-kenyan-protests-over-death-of-blogger-in-custody',\n",
       "   'urlToImage': 'https://apicms.thestar.com.my/uploads/images/2025/06/17/3371757.jpg',\n",
       "   'publishedAt': '2025-06-17T14:17:00Z',\n",
       "   'content': 'NAIROBI (Reuters) -One person was killed in the Kenyan capital Nairobi on Tuesday during protests sparked by the death of a blogger in police custody that has inflamed accusations of extrajudicial ki… [+2352 chars]'},\n",
       "  {'source': {'id': 'bbc-news', 'name': 'BBC News'},\n",
       "   'author': 'Anne Soy',\n",
       "   'title': 'Clashes in Kenya protests over death of blogger in custody',\n",
       "   'description': 'Protesters, angry with the death of a blogger in custody, demand the sacking of a senior policeman.',\n",
       "   'url': 'https://www.bbc.co.uk/news/articles/c74zjw55l93o',\n",
       "   'urlToImage': 'https://ichef.bbci.co.uk/ace/branded_news/1200/cpsprodpb/cfef/live/d017b5f0-4b7f-11f0-86d5-3b52b53af158.jpg',\n",
       "   'publishedAt': '2025-06-17T14:05:09Z',\n",
       "   'content': \"Earlier on Tuesday, there were pockets of violence in the capital's central business district when groups of young men riding motorbikes, armed with whips and clubs, attacked protesters.\\r\\nVideos show… [+1780 chars]\"},\n",
       "  {'source': {'id': None, 'name': 'BBC News'},\n",
       "   'author': None,\n",
       "   'title': 'Kenya protesters clash with men wielding clubs',\n",
       "   'description': 'Protesters, angry with the death of a blogger in custody, demand the sacking of a senior policeman.',\n",
       "   'url': 'https://www.bbc.com/news/articles/c74zjw55l93o',\n",
       "   'urlToImage': 'https://ichef.bbci.co.uk/news/1024/branded_news/cfef/live/d017b5f0-4b7f-11f0-86d5-3b52b53af158.jpg',\n",
       "   'publishedAt': '2025-06-17T14:05:09Z',\n",
       "   'content': 'Kenyan protesters have clashed with club-carrying young men, believed to be loyal to the government, in the centre of the capital, Nairobi.\\r\\nThe demonstration, held in the wake of the death in custod… [+1787 chars]'},\n",
       "  {'source': {'id': None, 'name': 'DW (English)'},\n",
       "   'author': 'Louis Oelofse',\n",
       "   'title': \"'Goons' attack Kenya protesters demanding justice for Ojwang\",\n",
       "   'description': 'The death of Albert Ojwang, who was accused of defaming Deputy Inspector General Eliud Langat, sparked days of protests in Nairobi. One person was killed in the latest demonstrations.',\n",
       "   'url': 'https://www.dw.com/en/goons-attack-kenya-protesters-demanding-justice-for-ojwang/a-72948701',\n",
       "   'urlToImage': 'https://static.dw.com/image/72948578_6.jpg',\n",
       "   'publishedAt': '2025-06-17T14:02:00Z',\n",
       "   'content': \"One person was killed in the\\xa0Kenyan capital \\xa0Nairobi on Tuesday during a demonstration\\xa0against the death of a blogger who died in police custody.\\r\\nDW's Nairobi correspondent, Felix Maringa, witnessed… [+2356 chars]\"},\n",
       "  {'source': {'id': None, 'name': 'DW (English)'},\n",
       "   'author': 'Louis Oelofse',\n",
       "   'title': 'Kenyan police officer held over brutality protest shooting',\n",
       "   'description': 'DW captured the incident on camera during protests in Nairobi over the death of blogger Albert Ojwang. A Kenyan police officer has been arrested over the shooting Tuesday of an unarmed civilian during a demonstration against the death of a blogger in police c…',\n",
       "   'url': 'https://www.dw.com/en/kenyan-police-officer-held-over-brutality-protest-shooting/a-72948701',\n",
       "   'urlToImage': 'https://static.dw.com/image/72954901_6.jpg',\n",
       "   'publishedAt': '2025-06-17T14:02:00Z',\n",
       "   'content': \"A Kenyan police officer has been arrested over the shooting Tuesday of an unarmed civilian during a demonstration against the death of a blogger in police custody.\\r\\nDW's Nairobi correspondent, Felix … [+2705 chars]\"},\n",
       "  {'source': {'id': None,\n",
       "    'name': 'Breaking NEWS in KENYA for Today Right Now & Kenyan News | TUKO'},\n",
       "   'author': 'Danvictor Munene',\n",
       "   'title': 'Samidoh\\'s Clip Cooking and Bonding with Daughter in US Sparks Reactions: \"Harudi Kenya\"',\n",
       "   'description': 'Samidoh cooked with his daughter in the US as fans reacted to his relaxed vibe amid an arrest warrant against him in Kenya. They urged him to stay abroad.',\n",
       "   'url': 'https://www.tuko.co.ke/entertainment/celebrities/593053-samidohs-clip-cooking-bonding-daughter-sparks-reactions-harudi-kenya/',\n",
       "   'urlToImage': 'https://cdn.tuko.co.ke/images/1200x675/2b7158ab412f6f3a.jpeg?v=1',\n",
       "   'publishedAt': '2025-06-17T13:26:03Z',\n",
       "   'content': \"<ul><li>Samidoh's laid-back cooking moment with his daughter in the US triggered waves of online chatter, given the storm of controversy awaiting him back in Kenya</li><li>While fans were charmed by … [+3669 chars]\"},\n",
       "  {'source': {'id': None, 'name': 'Yahoo Entertainment'},\n",
       "   'author': 'BRIAN INGANGA',\n",
       "   'title': 'Photos of protests following the death of a blogger while in police custody',\n",
       "   'description': 'A demonstration over the death of blogger Albert Ojwang in police custody turned violent Tuesday with police in riot gear facing protesters in downtown...',\n",
       "   'url': 'https://www.yahoo.com/news/photos-protests-following-death-blogger-120338819.html',\n",
       "   'urlToImage': 'https://s.yimg.com/ny/api/res/1.2/F6p0FL0BMkAE3xT9EtjyvA--/YXBwaWQ9aGlnaGxhbmRlcjt3PTEyMDA7aD04MDA-/https://media.zenfs.com/en/ap.org/d30ee99c506279c072257946c2d2553a',\n",
       "   'publishedAt': '2025-06-17T12:03:38Z',\n",
       "   'content': 'NAIROBI, Kenya (AP) A demonstration over the death of blogger Albert Ojwang in police custody turned violent Tuesday with police in riot gear facing protesters in downtown Nairobi, Kenya. Several dem… [+674 chars]'},\n",
       "  {'source': {'id': None,\n",
       "    'name': 'Breaking NEWS in KENYA for Today Right Now & Kenyan News | TUKO'},\n",
       "   'author': 'Amondi Aroko',\n",
       "   'title': 'X Influencer Hanifa Claims Goon Hit Her During CBD Protests, Stole Her Phone',\n",
       "   'description': 'Hanifa joined the youth who are protesting in CBD and reported that a goon had stolen a phone after beating her but people came through and unveiled the thug.',\n",
       "   'url': 'https://www.tuko.co.ke/entertainment/593049-x-influencer-hanifa-claims-goon-hit-cbd-protests-stole-phone/',\n",
       "   'urlToImage': 'https://cdn.tuko.co.ke/images/1200x675/c3bb2c8c8c8ba4ee.jpeg?v=1',\n",
       "   'publishedAt': '2025-06-17T11:44:42Z',\n",
       "   'content': '<ul><li>X influencer Hanifa has exposed a goon who stole her phone during the ongoing protests before she got help from other demonstrators</li><li>There have been young people hitting the streets se… [+3354 chars]'},\n",
       "  {'source': {'id': None, 'name': 'Livemint'},\n",
       "   'author': 'mint',\n",
       "   'title': 'The subordinate judiciary is an economic pillar India must fix',\n",
       "   'description': 'Comprehensive reforms of India’s lower judiciary could help the Indian economy grow markedly faster. Experience from countries as diverse as Singapore and Kenya shows how such an economic boost can be imparted through judicial efficiency.',\n",
       "   'url': 'https://www.livemint.com/opinion/online-views/uttar-pradesh-judiciary-narendra-modi-kenya-judicial-reform-singapore-mediation-south-africa-judge-kenya-gdp-backlog-11749817452342.html',\n",
       "   'urlToImage': 'https://www.livemint.com/lm-img/img/2025/06/13/1600x900/3-0-94139253-29K05RK510-0_1679789094818_1749818937944.JPG',\n",
       "   'publishedAt': '2025-06-17T07:00:00Z',\n",
       "   'content': 'Imagine a small shop owner, Sunita, waiting five years for a district court to resolve a simple lease dispute. Consequently, she is unable to expand her business, which adversely affects her future.\\xa0… [+5745 chars]'},\n",
       "  {'source': {'id': None,\n",
       "    'name': 'Breaking NEWS in KENYA for Today Right Now & Kenyan News | TUKO'},\n",
       "   'author': 'William Osoro',\n",
       "   'title': 'Albert Ojwang: Kenyans Unhappy with Blogger’s Dad after Accepting Ruto’s Donation',\n",
       "   'description': 'Kenyans reacted sharply after Albert Ojwang’s father accepted KSh 2m from William Ruto. Some called for refunds, while others urged compassion for the grieving dad.',\n",
       "   'url': 'https://www.tuko.co.ke/entertainment/celebrities/592962-albert-ojwang-kenyans-unhappy-bloggers-dad-accepting-rutos-donation/',\n",
       "   'urlToImage': 'https://cdn.tuko.co.ke/images/1200x675/29015e2addb7b55a.jpeg?v=1',\n",
       "   'publishedAt': '2025-06-17T06:19:17Z',\n",
       "   'content': '<ul><li>Kenyans online are divided after President William Ruto gave KSh 2 million to the grieving father of Albert Ojwang</li><li>While some criticised Meshack Ojwang for accepting the donation desp… [+3433 chars]'}]}"
      ]
     },
     "execution_count": 12,
     "metadata": {},
     "output_type": "execute_result"
    }
   ],
   "source": [
    "latest_news = news.json()\n",
    "latest_news"
   ]
  },
  {
   "cell_type": "markdown",
   "id": "79148a30",
   "metadata": {},
   "source": [
    "since I need to store the data in my database and i need it to be indexed i will change the formart of the data recieved from dictionary to list in this process I will also be transforming the dat we are going to use pandas pd\n",
    "😎"
   ]
  },
  {
   "cell_type": "code",
   "execution_count": 17,
   "id": "0e2ecf70",
   "metadata": {},
   "outputs": [
    {
     "data": {
      "text/plain": [
       "[{'source': {'id': None, 'name': 'BBC News'},\n",
       "  'author': None,\n",
       "  'title': \"Why the death of a blogger has put Kenya's police on trial\",\n",
       "  'description': 'His widow tells the BBC his last words from a police station in Nairobi were: \"I\\'ll see you soon.\"',\n",
       "  'url': 'https://www.bbc.com/news/articles/c79epzj703eo',\n",
       "  'urlToImage': 'https://ichef.bbci.co.uk/news/1024/branded_news/81fc/live/921b4380-4ba6-11f0-8c47-237c2e4015f5.jpg',\n",
       "  'publishedAt': '2025-06-17T22:55:47Z',\n",
       "  'content': 'Wycliffe Muia, Barbara Plett Usher &amp; Brian Waihenya\\r\\nAlbert Ojwang, who was married with a young son, had graduated with a Bachelor of Education degree a few years ago\\r\\n\"My son died like an anima… [+10420 chars]'},\n",
       " {'source': {'id': None, 'name': 'Yahoo Entertainment'},\n",
       "  'author': 'BRIAN INGANGA',\n",
       "  'title': 'Photos capture the shooting of a civilian by a Kenyan police officer amid protests',\n",
       "  'description': 'An Associated Press photographer captured the shooting of a civilian by a Kenyan police officer in the head at close range on Tuesday, during the latest...',\n",
       "  'url': 'https://www.yahoo.com/news/photos-capture-shooting-civilian-kenyan-215657430.html',\n",
       "  'urlToImage': 'https://s.yimg.com/ny/api/res/1.2/eVoPJjU7uhnbMjENj_fuwQ--/YXBwaWQ9aGlnaGxhbmRlcjt3PTEyMDA7aD04MDA-/https://media.zenfs.com/en/ap.org/f95109cdcccf687ab3291ea7639a20dd',\n",
       "  'publishedAt': '2025-06-17T21:56:57Z',\n",
       "  'content': 'NAIROBI, Kenya (AP) An Associated Press photographer captured the shooting of a civilian by a Kenyan police officer in the head at close range on Tuesday, during the latest protest against the countr… [+2423 chars]'},\n",
       " {'source': {'id': None, 'name': 'DW (English)'},\n",
       "  'author': 'Louis Oelofse',\n",
       "  'title': 'Kenya: Officer held after man shot at anti-brutality rally',\n",
       "  'description': 'DW captured the incident on camera during protests in Nairobi following the death of blogger Albert Ojwang in police custody.',\n",
       "  'url': 'https://www.dw.com/en/kenya-officer-held-after-man-shot-at-anti-brutality-rally/a-72948701',\n",
       "  'urlToImage': 'https://static.dw.com/image/72954901_6.jpg',\n",
       "  'publishedAt': '2025-06-17T17:03:00Z',\n",
       "  'content': \"A Kenyan police officer has been arrested following the shooting of an unarmed civilian during Tuesday's rally to protest the death of a blogger in police custody.\\r\\nDW's Nairobi correspondent, Felix … [+2619 chars]\"},\n",
       " {'source': {'id': 'abc-news', 'name': 'ABC News'},\n",
       "  'author': 'EVELYNE MUSAMBI Associated Press, BRIAN INGANGA Associated Press',\n",
       "  'title': 'Kenyan police shoot protester at close range during latest protests',\n",
       "  'description': 'Kenyan police have shot an apparent bystander at close range during the latest protests over the killing of a blogger in custody earlier this month',\n",
       "  'url': 'https://abcnews.go.com/International/wireStory/kenyan-police-shoot-protester-close-range-latest-protests-122935951',\n",
       "  'urlToImage': 'https://i.abcnewsfe.com/a/a2f4a655-51e1-4ef7-b8fb-c666f8e5079f/wirestory_936486f1d1463debf7f9a9526bf16f3c_16x9.jpg?w=1600',\n",
       "  'publishedAt': '2025-06-17T16:53:02Z',\n",
       "  'content': 'NAIROBI, Kenya -- Kenyan police shot an apparent bystander at close range Tuesday during the latest protests over the killing of a blogger in custody earlier this month, sparking more fury among the … [+1748 chars]'},\n",
       " {'source': {'id': None, 'name': 'Biztoc.com'},\n",
       "  'author': 'bloomberg.com',\n",
       "  'title': 'Bikers With Whips Rout Kenya Anti-Police Protesters; Dozens Hurt',\n",
       "  'description': '',\n",
       "  'url': 'https://biztoc.com/x/6c666a73cb6ba2d2',\n",
       "  'urlToImage': 'https://biztoc.com/cdn/6c666a73cb6ba2d2_s.webp',\n",
       "  'publishedAt': '2025-06-17T15:31:49Z',\n",
       "  'content': '{ window.open(this.href, \\'_blank\\'); }, 200); return false;\"&gt;Why did US retail sales drop sharply in May? { window.open(this.href, \\'_blank\\'); }, 200); return false;\"&gt;How will Kraft Heinz\\'s dye r… [+753 chars]'},\n",
       " {'source': {'id': None,\n",
       "   'name': 'Breaking NEWS in KENYA for Today Right Now & Kenyan News | TUKO'},\n",
       "  'author': 'Danvictor Munene',\n",
       "  'title': 'Abel Mutua, Awinja and Other Celebs Berate Police Officers After Shooting Protester in the Head',\n",
       "  'description': 'A vendor was shot during protests over Albert Ojwang’s death. Celebs like Abel Mutua and Awinja spoke out, sparking outrage and questions about police conduct.',\n",
       "  'url': 'https://www.tuko.co.ke/entertainment/celebrities/593085-abel-mutua-awinja-celebs-berate-police-officers-shooting-protester-cbd/',\n",
       "  'urlToImage': 'https://cdn.tuko.co.ke/images/1200x675/0d1735ba20bebc67.jpeg?v=1',\n",
       "  'publishedAt': '2025-06-17T15:27:41Z',\n",
       "  'content': '<ul><li>A disturbing video captured the moment a calm vendor faced two advancing officers, and ended up being shot in broad daylight</li><li>Abel Mutua, Awinja, and Flaqo reacted online, unleashing r… [+5231 chars]'},\n",
       " {'source': {'id': 'al-jazeera-english', 'name': 'Al Jazeera English'},\n",
       "  'author': 'Al Jazeera',\n",
       "  'title': 'One killed in clashes as Kenyans protest death of blogger in police custody',\n",
       "  'description': 'Demonstrations against police violence erupted after 31-year-old Albert Ojwang died in custody.',\n",
       "  'url': 'https://www.aljazeera.com/news/2025/6/17/one-killed-in-clashes-as-kenyans-protest-death-of-blogger-in-police-custody',\n",
       "  'urlToImage': 'https://www.aljazeera.com/wp-content/uploads/2025/06/ap-8e0e711c32fc49fb8eb8987ebe9c8c29-1750165659.jpg?resize=1920%2C1440',\n",
       "  'publishedAt': '2025-06-17T14:40:37Z',\n",
       "  'content': 'Hundreds of men on motorbikes, armed with whips and clubs, have attacked protesters in downtown Nairobi while they were demonstrating against alleged extrajudicial killings, following the death of a … [+2921 chars]'},\n",
       " {'source': {'id': None, 'name': 'The Star Online'},\n",
       "  'author': 'The Star Online',\n",
       "  'title': 'One dead in Kenyan protests over death of blogger in custody',\n",
       "  'description': 'NAIROBI (Reuters) -One person was killed in the Kenyan capital Nairobi on Tuesday during protests sparked by the death of a blogger in police custody that has inflamed accusations of extrajudicial killings by security forces.\\xa0\\xa0\\xa0 Read full story',\n",
       "  'url': 'https://www.thestar.com.my/news/world/2025/06/17/one-dead-in-kenyan-protests-over-death-of-blogger-in-custody',\n",
       "  'urlToImage': 'https://apicms.thestar.com.my/uploads/images/2025/06/17/3371757.jpg',\n",
       "  'publishedAt': '2025-06-17T14:17:00Z',\n",
       "  'content': 'NAIROBI (Reuters) -One person was killed in the Kenyan capital Nairobi on Tuesday during protests sparked by the death of a blogger in police custody that has inflamed accusations of extrajudicial ki… [+2352 chars]'},\n",
       " {'source': {'id': 'bbc-news', 'name': 'BBC News'},\n",
       "  'author': 'Anne Soy',\n",
       "  'title': 'Clashes in Kenya protests over death of blogger in custody',\n",
       "  'description': 'Protesters, angry with the death of a blogger in custody, demand the sacking of a senior policeman.',\n",
       "  'url': 'https://www.bbc.co.uk/news/articles/c74zjw55l93o',\n",
       "  'urlToImage': 'https://ichef.bbci.co.uk/ace/branded_news/1200/cpsprodpb/cfef/live/d017b5f0-4b7f-11f0-86d5-3b52b53af158.jpg',\n",
       "  'publishedAt': '2025-06-17T14:05:09Z',\n",
       "  'content': \"Earlier on Tuesday, there were pockets of violence in the capital's central business district when groups of young men riding motorbikes, armed with whips and clubs, attacked protesters.\\r\\nVideos show… [+1780 chars]\"},\n",
       " {'source': {'id': None, 'name': 'BBC News'},\n",
       "  'author': None,\n",
       "  'title': 'Kenya protesters clash with men wielding clubs',\n",
       "  'description': 'Protesters, angry with the death of a blogger in custody, demand the sacking of a senior policeman.',\n",
       "  'url': 'https://www.bbc.com/news/articles/c74zjw55l93o',\n",
       "  'urlToImage': 'https://ichef.bbci.co.uk/news/1024/branded_news/cfef/live/d017b5f0-4b7f-11f0-86d5-3b52b53af158.jpg',\n",
       "  'publishedAt': '2025-06-17T14:05:09Z',\n",
       "  'content': 'Kenyan protesters have clashed with club-carrying young men, believed to be loyal to the government, in the centre of the capital, Nairobi.\\r\\nThe demonstration, held in the wake of the death in custod… [+1787 chars]'},\n",
       " {'source': {'id': None, 'name': 'DW (English)'},\n",
       "  'author': 'Louis Oelofse',\n",
       "  'title': \"'Goons' attack Kenya protesters demanding justice for Ojwang\",\n",
       "  'description': 'The death of Albert Ojwang, who was accused of defaming Deputy Inspector General Eliud Langat, sparked days of protests in Nairobi. One person was killed in the latest demonstrations.',\n",
       "  'url': 'https://www.dw.com/en/goons-attack-kenya-protesters-demanding-justice-for-ojwang/a-72948701',\n",
       "  'urlToImage': 'https://static.dw.com/image/72948578_6.jpg',\n",
       "  'publishedAt': '2025-06-17T14:02:00Z',\n",
       "  'content': \"One person was killed in the\\xa0Kenyan capital \\xa0Nairobi on Tuesday during a demonstration\\xa0against the death of a blogger who died in police custody.\\r\\nDW's Nairobi correspondent, Felix Maringa, witnessed… [+2356 chars]\"},\n",
       " {'source': {'id': None, 'name': 'DW (English)'},\n",
       "  'author': 'Louis Oelofse',\n",
       "  'title': 'Kenyan police officer held over brutality protest shooting',\n",
       "  'description': 'DW captured the incident on camera during protests in Nairobi over the death of blogger Albert Ojwang. A Kenyan police officer has been arrested over the shooting Tuesday of an unarmed civilian during a demonstration against the death of a blogger in police c…',\n",
       "  'url': 'https://www.dw.com/en/kenyan-police-officer-held-over-brutality-protest-shooting/a-72948701',\n",
       "  'urlToImage': 'https://static.dw.com/image/72954901_6.jpg',\n",
       "  'publishedAt': '2025-06-17T14:02:00Z',\n",
       "  'content': \"A Kenyan police officer has been arrested over the shooting Tuesday of an unarmed civilian during a demonstration against the death of a blogger in police custody.\\r\\nDW's Nairobi correspondent, Felix … [+2705 chars]\"},\n",
       " {'source': {'id': None,\n",
       "   'name': 'Breaking NEWS in KENYA for Today Right Now & Kenyan News | TUKO'},\n",
       "  'author': 'Danvictor Munene',\n",
       "  'title': 'Samidoh\\'s Clip Cooking and Bonding with Daughter in US Sparks Reactions: \"Harudi Kenya\"',\n",
       "  'description': 'Samidoh cooked with his daughter in the US as fans reacted to his relaxed vibe amid an arrest warrant against him in Kenya. They urged him to stay abroad.',\n",
       "  'url': 'https://www.tuko.co.ke/entertainment/celebrities/593053-samidohs-clip-cooking-bonding-daughter-sparks-reactions-harudi-kenya/',\n",
       "  'urlToImage': 'https://cdn.tuko.co.ke/images/1200x675/2b7158ab412f6f3a.jpeg?v=1',\n",
       "  'publishedAt': '2025-06-17T13:26:03Z',\n",
       "  'content': \"<ul><li>Samidoh's laid-back cooking moment with his daughter in the US triggered waves of online chatter, given the storm of controversy awaiting him back in Kenya</li><li>While fans were charmed by … [+3669 chars]\"},\n",
       " {'source': {'id': None, 'name': 'Yahoo Entertainment'},\n",
       "  'author': 'BRIAN INGANGA',\n",
       "  'title': 'Photos of protests following the death of a blogger while in police custody',\n",
       "  'description': 'A demonstration over the death of blogger Albert Ojwang in police custody turned violent Tuesday with police in riot gear facing protesters in downtown...',\n",
       "  'url': 'https://www.yahoo.com/news/photos-protests-following-death-blogger-120338819.html',\n",
       "  'urlToImage': 'https://s.yimg.com/ny/api/res/1.2/F6p0FL0BMkAE3xT9EtjyvA--/YXBwaWQ9aGlnaGxhbmRlcjt3PTEyMDA7aD04MDA-/https://media.zenfs.com/en/ap.org/d30ee99c506279c072257946c2d2553a',\n",
       "  'publishedAt': '2025-06-17T12:03:38Z',\n",
       "  'content': 'NAIROBI, Kenya (AP) A demonstration over the death of blogger Albert Ojwang in police custody turned violent Tuesday with police in riot gear facing protesters in downtown Nairobi, Kenya. Several dem… [+674 chars]'},\n",
       " {'source': {'id': None,\n",
       "   'name': 'Breaking NEWS in KENYA for Today Right Now & Kenyan News | TUKO'},\n",
       "  'author': 'Amondi Aroko',\n",
       "  'title': 'X Influencer Hanifa Claims Goon Hit Her During CBD Protests, Stole Her Phone',\n",
       "  'description': 'Hanifa joined the youth who are protesting in CBD and reported that a goon had stolen a phone after beating her but people came through and unveiled the thug.',\n",
       "  'url': 'https://www.tuko.co.ke/entertainment/593049-x-influencer-hanifa-claims-goon-hit-cbd-protests-stole-phone/',\n",
       "  'urlToImage': 'https://cdn.tuko.co.ke/images/1200x675/c3bb2c8c8c8ba4ee.jpeg?v=1',\n",
       "  'publishedAt': '2025-06-17T11:44:42Z',\n",
       "  'content': '<ul><li>X influencer Hanifa has exposed a goon who stole her phone during the ongoing protests before she got help from other demonstrators</li><li>There have been young people hitting the streets se… [+3354 chars]'},\n",
       " {'source': {'id': None, 'name': 'Livemint'},\n",
       "  'author': 'mint',\n",
       "  'title': 'The subordinate judiciary is an economic pillar India must fix',\n",
       "  'description': 'Comprehensive reforms of India’s lower judiciary could help the Indian economy grow markedly faster. Experience from countries as diverse as Singapore and Kenya shows how such an economic boost can be imparted through judicial efficiency.',\n",
       "  'url': 'https://www.livemint.com/opinion/online-views/uttar-pradesh-judiciary-narendra-modi-kenya-judicial-reform-singapore-mediation-south-africa-judge-kenya-gdp-backlog-11749817452342.html',\n",
       "  'urlToImage': 'https://www.livemint.com/lm-img/img/2025/06/13/1600x900/3-0-94139253-29K05RK510-0_1679789094818_1749818937944.JPG',\n",
       "  'publishedAt': '2025-06-17T07:00:00Z',\n",
       "  'content': 'Imagine a small shop owner, Sunita, waiting five years for a district court to resolve a simple lease dispute. Consequently, she is unable to expand her business, which adversely affects her future.\\xa0… [+5745 chars]'},\n",
       " {'source': {'id': None,\n",
       "   'name': 'Breaking NEWS in KENYA for Today Right Now & Kenyan News | TUKO'},\n",
       "  'author': 'William Osoro',\n",
       "  'title': 'Albert Ojwang: Kenyans Unhappy with Blogger’s Dad after Accepting Ruto’s Donation',\n",
       "  'description': 'Kenyans reacted sharply after Albert Ojwang’s father accepted KSh 2m from William Ruto. Some called for refunds, while others urged compassion for the grieving dad.',\n",
       "  'url': 'https://www.tuko.co.ke/entertainment/celebrities/592962-albert-ojwang-kenyans-unhappy-bloggers-dad-accepting-rutos-donation/',\n",
       "  'urlToImage': 'https://cdn.tuko.co.ke/images/1200x675/29015e2addb7b55a.jpeg?v=1',\n",
       "  'publishedAt': '2025-06-17T06:19:17Z',\n",
       "  'content': '<ul><li>Kenyans online are divided after President William Ruto gave KSh 2 million to the grieving father of Albert Ojwang</li><li>While some criticised Meshack Ojwang for accepting the donation desp… [+3433 chars]'}]"
      ]
     },
     "execution_count": 17,
     "metadata": {},
     "output_type": "execute_result"
    }
   ],
   "source": [
    "articles = latest_news[\"articles\"]\n",
    "\n",
    "df = pd.DataFrame([{\n",
    "    \"source\": article[\"source\"][\"name\"],\n",
    "    \"author\": article[\"author\"],\n",
    "    \"title\": article[\"title\"],\n",
    "    \"description\": article[\"description\"],\n",
    "    \"url\": article[\"url\"],\n",
    "    \"published_at\": article[\"publishedAt\"],\n",
    "    \"content\": article[\"content\"]\n",
    "} for article in articles])\n",
    "\n",
    "articles\n"
   ]
  },
  {
   "cell_type": "markdown",
   "id": "20a25a0f",
   "metadata": {},
   "source": [
    "I will have to connect it to my db/ aiven"
   ]
  },
  {
   "cell_type": "code",
   "execution_count": null,
   "id": "2586ee36",
   "metadata": {},
   "outputs": [],
   "source": [
    "engine = create_engine(db_uri)"
   ]
  },
  {
   "cell_type": "markdown",
   "id": "158ff1d1",
   "metadata": {},
   "source": [
    "and i want to post the data in a table  called kenyan_news"
   ]
  },
  {
   "cell_type": "code",
   "execution_count": 19,
   "id": "070a4f7e",
   "metadata": {},
   "outputs": [
    {
     "data": {
      "text/plain": [
       "17"
      ]
     },
     "execution_count": 19,
     "metadata": {},
     "output_type": "execute_result"
    }
   ],
   "source": [
    "df.to_sql('kenya_news',engine,if_exists='replace',index=False)"
   ]
  },
  {
   "cell_type": "markdown",
   "id": "81404a99",
   "metadata": {},
   "source": [
    "I really loved the whole process this was extremely satisfying \n",
    "Thank you for taking time to check out my ETL project 😂 thanks to #LUXDEVHQ"
   ]
  }
 ],
 "metadata": {
  "kernelspec": {
   "display_name": "base",
   "language": "python",
   "name": "python3"
  },
  "language_info": {
   "codemirror_mode": {
    "name": "ipython",
    "version": 3
   },
   "file_extension": ".py",
   "mimetype": "text/x-python",
   "name": "python",
   "nbconvert_exporter": "python",
   "pygments_lexer": "ipython3",
   "version": "3.12.7"
  }
 },
 "nbformat": 4,
 "nbformat_minor": 5
}
